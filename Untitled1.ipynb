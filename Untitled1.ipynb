{
  "nbformat": 4,
  "nbformat_minor": 0,
  "metadata": {
    "colab": {
      "provenance": [],
      "authorship_tag": "ABX9TyO8QUpKUD/beH0qaeysfRWv",
      "include_colab_link": true
    },
    "kernelspec": {
      "name": "python3",
      "display_name": "Python 3"
    },
    "language_info": {
      "name": "python"
    }
  },
  "cells": [
    {
      "cell_type": "markdown",
      "metadata": {
        "id": "view-in-github",
        "colab_type": "text"
      },
      "source": [
        "<a href=\"https://colab.research.google.com/github/ccarlos-18/fundamentos-de-programacion-taller-3/blob/main/Untitled1.ipynb\" target=\"_parent\"><img src=\"https://colab.research.google.com/assets/colab-badge.svg\" alt=\"Open In Colab\"/></a>"
      ]
    },
    {
      "cell_type": "code",
      "source": [
        "A = 0\n",
        "B = 3\n",
        "C = -2\n",
        "in A > B:\n",
        " print(\"A es mayor que B\")\n",
        "if A < B:\n",
        " print(\"A es menor que B\")\n",
        "\n",
        "A es mayor que B\n"
      ],
      "metadata": {
        "colab": {
          "base_uri": "https://localhost:8080/",
          "height": 130
        },
        "id": "3ZuPO8t1ABaE",
        "outputId": "7d87b233-3d72-48c2-d096-f835ac732649"
      },
      "execution_count": null,
      "outputs": [
        {
          "output_type": "error",
          "ename": "SyntaxError",
          "evalue": "ignored",
          "traceback": [
            "\u001b[0;36m  File \u001b[0;32m\"<ipython-input-2-35bd145a3a8c>\"\u001b[0;36m, line \u001b[0;32m4\u001b[0m\n\u001b[0;31m    in A > B:\u001b[0m\n\u001b[0m    ^\u001b[0m\n\u001b[0;31mSyntaxError\u001b[0m\u001b[0;31m:\u001b[0m invalid syntax\n"
          ]
        }
      ]
    },
    {
      "cell_type": "code",
      "source": [
        "A = 7\n",
        "B = 4\n",
        "if A > B:\n",
        " print (\"A es mayor que B\")\n",
        "else:\n",
        "  print(\"A es menor o igual que B\")\n"
      ],
      "metadata": {
        "colab": {
          "base_uri": "https://localhost:8080/"
        },
        "id": "U2tCm_NzDvJy",
        "outputId": "1b799adf-1a93-4f33-8043-3c2d19c67abd"
      },
      "execution_count": null,
      "outputs": [
        {
          "output_type": "stream",
          "name": "stdout",
          "text": [
            "A es mayor que B\n"
          ]
        }
      ]
    },
    {
      "cell_type": "code",
      "source": [
        "A = 10\n",
        "B = 10\n",
        "if A > B:\n",
        "  print(\"A es mayor que B\")\n",
        "elif A < B:\n",
        "  print(\"A es menor que B\")\n",
        "else:\n",
        "  print(\"A es igual a B\")\n"
      ],
      "metadata": {
        "colab": {
          "base_uri": "https://localhost:8080/"
        },
        "id": "zgASLAFGFlCq",
        "outputId": "8c885a21-7abd-4f3e-8b08-5214fd7c4223"
      },
      "execution_count": null,
      "outputs": [
        {
          "output_type": "stream",
          "name": "stdout",
          "text": [
            "A es igual a B\n"
          ]
        }
      ]
    },
    {
      "cell_type": "code",
      "source": [
        "# un mes tiene 20 dias\n",
        "mes = 20 dias\n",
        "# el semestre academico coresponde a 4 meses\n",
        "semestre = 4 meses \n",
        "# una persona es mayor de edad si tiene 18 años \n",
        "mayor de edad = 18 años \n",
        "menor de edad = 17 años\n",
        "\n",
        "\n",
        "# valor en el caso urbano de monteria\n",
        "transporte = 2.800\n",
        "# si vive fuera de monteria\n",
        "transporte = 3.500\n",
        "# si incluye(desayuno almuerzo y cena)\n",
        "alimentacion = 20.000\n",
        "# el pago de la matricula se realiza una sola vez por semestre\n",
        "matricula = 5.000.000\n",
        "\n",
        "# apoyos de chocolove\n",
        "# chocolove considera los siguiente auxilios en funcion de su estrato socioeconomico y edad\n",
        "\n",
        "# si es menor de edad\n",
        "estrato 1 = 65.000\n",
        "# se es mayor de edad \n",
        "estrato 1 = 50.000\n",
        "# si es menor de edad\n",
        "estrato 2 = 45.000\n",
        "# si es mayor de edad\n",
        "estrato 2 = 30.000\n",
        "# si es menor de edad \n",
        "estrato 3 = 35.000\n",
        "# si es mayor de edad\n",
        "estrato 3 = 20.000\n",
        "# los demas estratos no reciben apoyo de transporte chocolove\n",
        "\n",
        "#chocolove considera los siguiente auxilios en funcion de su estrato socioeconomico y edad\n",
        "# si es menor de edad\n",
        "estrato 1 = 90%\n",
        "# si es mayor de edad \n",
        "estrato 1 = 70%\n",
        "# si es menor de edad\n",
        "estrato 2 = 70% \n",
        "# si es mayor de edad\n",
        "estrato 2 = 50%\n",
        "# si es menor de edad\n",
        "estrato 3 = 50%\n",
        "# si es mayor de edad\n",
        "estrato 3 = 30%\n",
        "# los demas estratos no reciven alimentacion por chocolove\n",
        "\n",
        "# choco love regresara un porcentaje de la matricula por promedio\n",
        "# para regresar el 100% de la matricula\n",
        "100% = (4.8) y (5.0)\n",
        "# para regresar el 70% de la matricula\n",
        "70% = (4.5) y (4.8)\n",
        "# para regresar el 40% de la matricula\n",
        "40% = (4.0) y (4.5)\n"
      ],
      "metadata": {
        "id": "FtMoAPmrI5lm"
      },
      "execution_count": null,
      "outputs": []
    },
    {
      "cell_type": "code",
      "source": [
        "# Ingreso de datos por el usuario\n",
        "costo_transporte_urbano = 2800\n",
        "costo_transporte_fuera_monteria = 3500\n",
        "costo_alimentacion = 20000\n",
        "valor_matricula = 5000000\n",
        "estrato = 2\n",
        "edad = 20\n",
        "promedio_ponderado = 4.7\n",
        "apoyo_transporte_menor_estrato_1 = 65000\n",
        "apoyo_transporte_mayor_estrato_1 = 50000\n",
        "apoyo_transporte_menor_estrato_2 = 45000\n",
        "apoyo_transporte_mayor_estrato_2 = 30000\n",
        "apoyo_transporte_menor_estrato_3 = 35000\n",
        "apoyo_transporte_mayor_estrato_3 = 20000\n",
        "apoyo_alimentacion_menor_estrato_1 = 0.9\n",
        "apoyo_alimentacion_mayor_estrato_1 = 0.7\n",
        "apoyo_alimentacion_menor_estrato_2 = 0.7\n",
        "apoyo_alimentacion_mayor_estrato_2 = 0.5\n",
        "apoyo_alimentacion_menor_estrato_3 = 0.5\n",
        "apoyo_alimentacion_mayor_estrato_3 = 0.3\n",
        "promedio_ponderado_100 = 4.8\n",
        "promedio_ponderado_70 = 4.5\n",
        "promedio_ponderado_40 = 4.0\n",
        "\n",
        "# Cálculo del gasto total mensual\n",
        "if edad <= 18:\n",
        "  if estrato == 1:\n",
        "    apoyo_transporte = apoyo_transporte_menor_estrato_1\n",
        "    apoyo_alimentacion = apoyo_alimentacion_menor_estrato_1\n",
        "  elif estrato == 2:\n",
        "    apoyo_transporte = apoyo_transporte_menor_estrato_2\n",
        "    apoyo_alimentacion = apoyo_alimentacion_menor_estrato_2\n",
        "  elif estrato == 3:\n",
        "    apoyo_transporte = apoyo_transporte_menor_estrato_3\n",
        "    apoyo_alimentacion = apoyo_alimentacion_menor_estrato_3\n",
        "  else:\n",
        "    apoyo_transporte = 0\n",
        "    apoyo_alimentacion = 0\n",
        "else:\n",
        "  if estrato == 1:\n",
        "    apoyo_transporte = apoyo_transporte_mayor_estrato_1\n",
        "    apoyo_alimentacion = apoyo_alimentacion_mayor_estrato_1\n",
        "  elif estrato == 2:\n",
        "    apoyo_transporte = apoyo_transporte_mayor_estrato_2\n",
        "    apoyo_alimentacion = apoyo_alimentacion_mayor_estrato_2\n",
        "  elif estrato == 3:\n",
        "    apoyo_transporte = apoyo_transporte_mayor_estrato_3\n",
        "    apoyo_alimentacion = apoyo_alimentacion_mayor_estrato_3\n",
        "  else:\n",
        "    apoyo_transporte = 0\n",
        "    apoyo_alimentacion = 0\n",
        "\n",
        "gasto_transporte = (costo_transporte_urbano if estrato >= 3 else costo_transporte_fuera_monteria) * 2 * 20\n",
        "gasto_aliment\n"
      ],
      "metadata": {
        "colab": {
          "base_uri": "https://localhost:8080/",
          "height": 135
        },
        "id": "9Jti8VeoJNDZ",
        "outputId": "907bec9c-673c-44e5-de89-9380aed28f55"
      },
      "execution_count": 4,
      "outputs": [
        {
          "output_type": "error",
          "ename": "IndentationError",
          "evalue": "ignored",
          "traceback": [
            "\u001b[0;36m  File \u001b[0;32m\"<ipython-input-4-bc78d2e84151>\"\u001b[0;36m, line \u001b[0;32m54\u001b[0m\n\u001b[0;31m    gasto_aliment\u001b[0m\n\u001b[0m    ^\u001b[0m\n\u001b[0;31mIndentationError\u001b[0m\u001b[0;31m:\u001b[0m unexpected indent\n"
          ]
        }
      ]
    },
    {
      "cell_type": "code",
      "source": [
        "#gasto_total = gasto_transp + gasto_aliment + gasto_matric\n",
        "\n",
        "# Cálculo del apoyo de Chocolove\n",
        "  if estrato == 1:\n",
        "  if edad < 18:\n",
        "    aux_transp = 65000\n",
        "    aux_aliment = 0.9\n",
        "  else:\n",
        "    aux_transp = 50000\n",
        "    aux_aliment = 0.7\n",
        "  elif estrato == 2:\n",
        "  if edad < 18:\n",
        "    aux_transp = 45000\n",
        "    aux_aliment = 0.7\n",
        "  else:\n",
        "    aux_transp = 30000\n",
        "    aux_aliment = 0.5\n",
        "  elif estrato == 3:\n",
        "  if edad < 18:\n",
        "    aux_transp = 35000\n",
        "    aux_aliment = 0.5\n",
        "  else:\n",
        "    aux_transp = 20000\n",
        "    aux_aliment = 0.3\n",
        "  else:\n",
        "  aux_transp = 0\n",
        "  aux_aliment = 0\n",
        "\n",
        "# Cálculo del apoyo de matrícula de Chocolove\n",
        "  if prom_ponder >= 4.8:\n",
        "  aux_matric = gasto_matric\n",
        "  elif prom_ponder >= 4.5:\n",
        "  aux_matric = gasto_matric * 0.7\n",
        "elif prom_ponder >= 4.0:\n",
        "  aux_matric = gasto_matric * 0.4\n",
        "  else:\n",
        "  aux_matric = 0\n",
        "\n",
        "# Cálculo del gasto total y apoyos de Chocolove\n",
        "gasto_transp -= aux_transp\n",
        "gasto_aliment -= gasto_aliment * (1 - aux_aliment)\n",
        "gasto_matric -= aux_matric\n",
        "gasto_total = gasto_transp + gasto_aliment + gasto_matric\n",
        "\n",
        "# Salida de resultados\n",
        "print(f\"Gasto de transporte: {gasto_transp}\")\n",
        "print(f\"Gasto de alimentación: {gasto_aliment}\")\n",
        "print(f\"Gasto de matrícula: {gasto_matric}\")\n",
        "print(f\"Gasto total: {gasto_total}\")\n"
      ],
      "metadata": {
        "colab": {
          "base_uri": "https://localhost:8080/",
          "height": 135
        },
        "id": "0aQ-gg3mKLHj",
        "outputId": "04cefe87-3db7-4ae5-efa0-ef874ab3400f"
      },
      "execution_count": 7,
      "outputs": [
        {
          "output_type": "error",
          "ename": "IndentationError",
          "evalue": "ignored",
          "traceback": [
            "\u001b[0;36m  File \u001b[0;32m\"<ipython-input-7-2bf30069a9b5>\"\u001b[0;36m, line \u001b[0;32m4\u001b[0m\n\u001b[0;31m    if estrato == 1:\u001b[0m\n\u001b[0m    ^\u001b[0m\n\u001b[0;31mIndentationError\u001b[0m\u001b[0;31m:\u001b[0m unexpected indent\n"
          ]
        }
      ]
    },
    {
      "cell_type": "code",
      "source": [
        "import math\n",
        "\n",
        "# Variables de entrada\n",
        "edad = 20\n",
        "estrato = 2\n",
        "lugar_residencia = \"Montería\"\n",
        "promedio_ponderado = 4.5\n",
        "apoyo_transporte = 45000\n",
        "apoyo_alimentacion = 14000\n",
        "\n",
        "# Cálculo del costo de transporte\n",
        "if lugar_residencia == \"Montería\":\n",
        "    costo_transporte = 2800 * 2 * 20\n",
        "else:\n",
        "    costo_transporte = 3500 * 2 * 20\n",
        "\n",
        "# Cálculo del costo de alimentación\n",
        "costo_alimentacion = 20000 * 20\n",
        "gasto_aliment = costo_alimentacion - apoyo_alimentacion\n",
        "\n",
        "# Cálculo del costo de matrícula\n",
        "if promedio_ponderado >= 4.8:\n",
        "    costo_matricula = 0\n",
        "elif 4.5 <= promedio_ponderado < 4.8:\n",
        "    costo_matricula = 0.3 * 5000000\n",
        "elif 4.0 <= promedio_ponderado < 4.5:\n",
        "    costo_matricula = 0.6 * 5000000\n",
        "else:\n",
        "    costo_matricula = 5000000\n",
        "\n",
        "# Cálculo del gasto total mensual\n",
        "gasto_total = costo_transporte + gasto_aliment + costo_matricula - apoyo_transporte\n",
        "\n",
        "# Salida de resultados\n",
        "print(\"El gasto total mensual es:\", gasto_total)\n"
      ],
      "metadata": {
        "colab": {
          "base_uri": "https://localhost:8080/"
        },
        "id": "dGaLEIkhLM_u",
        "outputId": "358c0d43-1f95-4210-b07f-e280fce31e93"
      },
      "execution_count": 8,
      "outputs": [
        {
          "output_type": "stream",
          "name": "stdout",
          "text": [
            "El gasto total mensual es: 1953000.0\n"
          ]
        }
      ]
    }
  ]
}